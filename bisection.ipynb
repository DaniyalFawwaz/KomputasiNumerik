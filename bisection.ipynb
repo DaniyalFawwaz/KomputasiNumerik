{
  "nbformat": 4,
  "nbformat_minor": 0,
  "metadata": {
    "colab": {
      "provenance": []
    },
    "kernelspec": {
      "name": "python3",
      "display_name": "Python 3"
    },
    "language_info": {
      "name": "python"
    }
  },
  "cells": [
    {
      "cell_type": "code",
      "execution_count": null,
      "metadata": {
        "id": "2JHVHadOtZcL"
      },
      "outputs": [],
      "source": [
        "# Import Necessary Library\n",
        "import numpy as np"
      ]
    },
    {
      "cell_type": "code",
      "source": [
        "# Define the Bisection Function\n",
        "def bisection(f, a, b, tol):\n",
        "\n",
        "  if np.sign(f(a)) == np.sign(f(b)):\n",
        "    raise Exception(\"The function has the same sign at the endpoints.\")\n",
        "\n",
        "  m = (a + b) / 2\n",
        "\n",
        "  if np.abs(f(m)) < tol:\n",
        "    return m\n",
        "  elif np.sign(f(a)) == np.sign(f(m)):\n",
        "    return bisection(f, m, b, tol)\n",
        "  else:\n",
        "    return bisection(f, a, m, tol)"
      ],
      "metadata": {
        "id": "GavF8GsEaXiU"
      },
      "execution_count": null,
      "outputs": []
    },
    {
      "cell_type": "code",
      "source": [
        "# Fungsi lambda untuk mencari akar kuadrat 2\n",
        "fungsi = lambda x: x**2 - 2"
      ],
      "metadata": {
        "id": "oEhCmGMYcmsc"
      },
      "execution_count": null,
      "outputs": []
    },
    {
      "cell_type": "code",
      "source": [
        "# Pemanggilan fungsi bisection\n",
        "\n",
        "r1 = my_bisection(f, 0, 2, 0.1)  # Toleransi 0.1\n",
        "print(\"r1 =\", r1)\n",
        "r01 = my_bisection(f, 0, 2, 0.01) # Toleransi 0.01\n",
        "print(\"r01 =\", r01)\n",
        "\n",
        "# Menampilkan nilai fungsi pada akar yang ditemukan\n",
        "print(\"f(r1) =\", f(r1))\n",
        "print(\"f(r01) =\", f(r01))"
      ],
      "metadata": {
        "id": "axEIJXVue0Hp"
      },
      "execution_count": null,
      "outputs": []
    }
  ]
}