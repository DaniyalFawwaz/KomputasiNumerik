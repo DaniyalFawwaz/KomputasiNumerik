{
  "nbformat": 4,
  "nbformat_minor": 0,
  "metadata": {
    "colab": {
      "provenance": []
    },
    "kernelspec": {
      "name": "python3",
      "display_name": "Python 3"
    },
    "language_info": {
      "name": "python"
    }
  },
  "cells": [
    {
      "cell_type": "code",
      "source": [
        "# Impor Pustaka NumPy dan Definisikan Matriks\n",
        "import numpy as np\n",
        "\n",
        "# Definisikan sistem persamaan linear dalam bentuk matriks augmented\n",
        "SPL = np.array([[2, 3, -1, 5],\n",
        "                [4, 4, -3, 3],\n",
        "                [-2, 3, -1, 1]])\n",
        "\n",
        "print(\"Sistem Persamaan Linear matriks adalah: \\n\", SPL)"
      ],
      "metadata": {
        "id": "QzhOQUVWhhd2"
      },
      "execution_count": null,
      "outputs": []
    },
    {
      "cell_type": "code",
      "source": [
        "# Fungsi eliminasi Gauss\n",
        "def eliminasi_gauss(matriks):\n",
        "\n",
        "\n",
        "  n = len(matriks)\n",
        "  for i in range(n):\n",
        "      # Cari elemen pivot terbesar pada kolom i ke bawah\n",
        "      max_row = i\n",
        "      for k in range(i+1, n):\n",
        "          if abs(matriks[k][i]) > abs(matriks[max_row][i]):\n",
        "              max_row = k\n",
        "      # Tukar baris i dengan baris max_row (jika perlu)\n",
        "      matriks[[i, max_row]] = matriks[[max_row, i]]\n",
        "      # Eliminasi elemen di bawah diagonal utama\n",
        "      for j in range(i+1, n):\n",
        "          faktor = matriks[j][i] / matriks[i][i]\n",
        "          for k in range(i, n+1):\n",
        "              matriks[j][k] -= faktor * matriks[i][k]\n",
        "  return matriks"
      ],
      "metadata": {
        "id": "zCMI-6XshrU3"
      },
      "execution_count": null,
      "outputs": []
    },
    {
      "cell_type": "code",
      "source": [
        "# Memanggil Fungsi Eliminasi Gauss\n",
        "SPL_eselon = eliminasi_gauss(SPL)\n",
        "\n",
        "print(\"\\nMatriks setelah eliminasi Gauss: \\n\", SPL_eselon)"
      ],
      "metadata": {
        "id": "-_EViIQdh-ir"
      },
      "execution_count": null,
      "outputs": []
    },
    {
      "cell_type": "code",
      "source": [
        "# Substitusi balik untuk mendapatkan solusi\n",
        "n = len(SPL_eselon)\n",
        "x = np.zeros(n)\n",
        "x[n-1] = SPL_eselon[n-1][n] / SPL_eselon[n-1][n-1]\n",
        "for i in range(n-2, -1, -1):\n",
        "    sum = 0\n",
        "    for j in range(i+1, n):\n",
        "        sum += SPL_eselon[i][j] * x[j]\n",
        "    x[i] = (SPL_eselon[i][n] - sum) / SPL_eselon[i][i]\n",
        "\n",
        "print(\"\\nSolusi sistem persamaan linear:\")\n",
        "for i in range(n):\n",
        "    print(f\"x{i+1} = {x[i]}\")"
      ],
      "metadata": {
        "id": "Mx0IqxfviGqh"
      },
      "execution_count": null,
      "outputs": []
    }
  ]
}