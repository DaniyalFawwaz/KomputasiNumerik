{
  "nbformat": 4,
  "nbformat_minor": 0,
  "metadata": {
    "colab": {
      "provenance": []
    },
    "kernelspec": {
      "name": "python3",
      "display_name": "Python 3"
    },
    "language_info": {
      "name": "python"
    }
  },
  "cells": [
    {
      "cell_type": "code",
      "source": [
        "# Impor Pustaka NumPy dan Definisikan Matriks\n",
        "import numpy as np\n",
        "\n",
        "# Definisikan sistem persamaan linear dalam bentuk matriks augmented\n",
        "SPL = np.array([[2, 3, -1, 5],\n",
        "                [4, 4, -3, 3],\n",
        "                [-2, 3, -1, 1]])\n",
        "\n",
        "print(\"Sistem Persamaan Linear matriks adalah: \\n\", SPL)"
      ],
      "metadata": {
        "colab": {
          "base_uri": "https://localhost:8080/"
        },
        "id": "QzhOQUVWhhd2",
        "outputId": "cbd1995c-d53f-49bd-eb14-0f763839cf14"
      },
      "execution_count": 1,
      "outputs": [
        {
          "output_type": "stream",
          "name": "stdout",
          "text": [
            "Sistem Persamaan Linear matriks adalah: \n",
            " [[ 2  3 -1  5]\n",
            " [ 4  4 -3  3]\n",
            " [-2  3 -1  1]]\n"
          ]
        }
      ]
    },
    {
      "cell_type": "code",
      "source": [
        "# Fungsi eliminasi Gauss\n",
        "def eliminasi_gauss(matriks):\n",
        "\n",
        "\n",
        "  n = len(matriks)\n",
        "  for i in range(n):\n",
        "      # Cari elemen pivot terbesar pada kolom i ke bawah\n",
        "      max_row = i\n",
        "      for k in range(i+1, n):\n",
        "          if abs(matriks[k][i]) > abs(matriks[max_row][i]):\n",
        "              max_row = k\n",
        "      # Tukar baris i dengan baris max_row (jika perlu)\n",
        "      matriks[[i, max_row]] = matriks[[max_row, i]]\n",
        "      # Eliminasi elemen di bawah diagonal utama\n",
        "      for j in range(i+1, n):\n",
        "          faktor = matriks[j][i] / matriks[i][i]\n",
        "          for k in range(i, n+1):\n",
        "              matriks[j][k] -= faktor * matriks[i][k]\n",
        "  return matriks"
      ],
      "metadata": {
        "id": "zCMI-6XshrU3"
      },
      "execution_count": 20,
      "outputs": []
    },
    {
      "cell_type": "code",
      "source": [
        "# Memanggil Fungsi Eliminasi Gauss\n",
        "SPL = eliminasi_gauss(SPL)\n",
        "\n",
        "print(\"\\nMatriks setelah eliminasi Gauss: \\n\", SPL)"
      ],
      "metadata": {
        "colab": {
          "base_uri": "https://localhost:8080/"
        },
        "id": "-_EViIQdh-ir",
        "outputId": "a13e27ed-3974-4201-c270-3ed6997951c5"
      },
      "execution_count": 11,
      "outputs": [
        {
          "output_type": "stream",
          "name": "stdout",
          "text": [
            "\n",
            "Matriks setelah eliminasi Gauss: \n",
            " [[ 4  4 -3  3]\n",
            " [ 0  5 -2  2]\n",
            " [ 0  0  0  2]]\n"
          ]
        }
      ]
    },
    {
      "cell_type": "code",
      "source": [
        "# Substitusi balik untuk mendapatkan solusi\n",
        "n = len(SPL)\n",
        "x = np.zeros(n)\n",
        "x[n-1] = SPL[n-1][n] / SPL[n-1][n-1]\n",
        "for i in range(n-2, -1, -1):\n",
        "    sum = 0\n",
        "    for j in range(i+1, n):\n",
        "        sum += SPL[i][j] * x[j]\n",
        "    x[i] = (SPL[i][n] - sum) / SPL[i][i]\n",
        "\n",
        "print(\"\\nSolusi sistem persamaan linear:\")\n",
        "for i in range(n):\n",
        "    print(f\"x{i+1} = {x[i]}\")"
      ],
      "metadata": {
        "colab": {
          "base_uri": "https://localhost:8080/"
        },
        "id": "Mx0IqxfviGqh",
        "outputId": "fa92f147-9e5a-4979-f3e6-0430535c7fc8"
      },
      "execution_count": 16,
      "outputs": [
        {
          "output_type": "stream",
          "name": "stdout",
          "text": [
            "\n",
            "Solusi sistem persamaan linear:\n",
            "x1 = nan\n",
            "x2 = inf\n",
            "x3 = inf\n"
          ]
        },
        {
          "output_type": "stream",
          "name": "stderr",
          "text": [
            "<ipython-input-16-af7a9f8164cd>:4: RuntimeWarning: divide by zero encountered in scalar divide\n",
            "  x[n-1] = SPL[n-1][n] / SPL[n-1][n-1]\n",
            "<ipython-input-16-af7a9f8164cd>:8: RuntimeWarning: invalid value encountered in scalar add\n",
            "  sum += SPL[i][j] * x[j]\n"
          ]
        }
      ]
    }
  ]
}